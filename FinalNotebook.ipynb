{
 "cells": [
  {
   "cell_type": "code",
   "execution_count": 8,
   "metadata": {
    "collapsed": false
   },
   "outputs": [],
   "source": [
    "input = open('blast_results.txt')"
   ]
  },
  {
   "cell_type": "code",
   "execution_count": 5,
   "metadata": {
    "collapsed": false
   },
   "outputs": [
    {
     "data": {
      "text/plain": [
       "<_io.TextIOWrapper name='blast_results.txt' mode='r' encoding='UTF-8'>"
      ]
     },
     "execution_count": 5,
     "metadata": {},
     "output_type": "execute_result"
    }
   ],
   "source": [
    "input"
   ]
  },
  {
   "cell_type": "code",
   "execution_count": 6,
   "metadata": {
    "collapsed": false
   },
   "outputs": [
    {
     "data": {
      "text/plain": [
       "'/home/pvh/python'"
      ]
     },
     "execution_count": 6,
     "metadata": {},
     "output_type": "execute_result"
    }
   ],
   "source": [
    "pwd"
   ]
  },
  {
   "cell_type": "code",
   "execution_count": 11,
   "metadata": {
    "collapsed": false
   },
   "outputs": [
    {
     "name": "stdout",
     "output_type": "stream",
     "text": [
      "NODE_1_length_120_cov_109.358330\tgi|769537622|gb|CP010873.1|\t2e-71\t278\t769537622\tCP010873\t1773\tMycobacterium tuberculosis\tMycobacterium tuberculosis\tMycobacterium tuberculosis strain Beijing-like, complete genome\n",
      "\n",
      "NODE_3_length_47_cov_102.404259\tgi|769537622|gb|CP010873.1|\t3e-31\t143\t769537622\tCP010873\t1773\tMycobacterium tuberculosis\tMycobacterium tuberculosis\tMycobacterium tuberculosis strain Beijing-like, complete genome\n",
      "\n",
      "NODE_4_length_51_cov_73.313728\tgi|769537622|gb|CP010873.1|\t2e-33\t150\t769537622\tCP010873\t1773\tMycobacterium tuberculosis\tMycobacterium tuberculosis\tMycobacterium tuberculosis strain Beijing-like, complete genome\n",
      "\n",
      "NODE_5_length_57_cov_112.649124\tgi|769537622|gb|CP010873.1|\t1e-36\t161\t769537622\tCP010873\t1773\tMycobacterium tuberculosis\tMycobacterium tuberculosis\tMycobacterium tuberculosis strain Beijing-like, complete genome\n",
      "\n",
      "NODE_6_length_54_cov_110.462959\tgi|769537622|gb|CP010873.1|\t5e-35\t156\t769537622\tCP010873\t1773\tMycobacterium tuberculosis\tMycobacterium tuberculosis\tMycobacterium tuberculosis strain Beijing-like, complete genome\n",
      "\n",
      "NODE_9_length_60_cov_125.083336\tgi|769537622|gb|CP010873.1|\t2e-38\t167\t769537622\tCP010873\t1773\tMycobacterium tuberculosis\tMycobacterium tuberculosis\tMycobacterium tuberculosis strain Beijing-like, complete genome\n",
      "\n"
     ]
    }
   ],
   "source": [
    "counter = 0\n",
    "for line in open('blast_results.txt'):\n",
    "    print(line)\n",
    "    counter = counter + 1\n",
    "    if counter > 5:\n",
    "        break"
   ]
  },
  {
   "cell_type": "code",
   "execution_count": 18,
   "metadata": {
    "collapsed": true
   },
   "outputs": [],
   "source": [
    "input = open('blast_results.txt')"
   ]
  },
  {
   "cell_type": "code",
   "execution_count": 22,
   "metadata": {
    "collapsed": false
   },
   "outputs": [
    {
     "name": "stdout",
     "output_type": "stream",
     "text": [
      "NODE_209_length_58_cov_112.275864\tgi|769537622|gb|CP010873.1|\t3e-37\t163\t769537622\tCP010873\t1773\tMycobacterium tuberculosis\tMycobacterium tuberculosis\tMycobacterium tuberculosis strain Beijing-like, complete genome\n",
      "\n",
      "NODE_219_length_68_cov_113.735291\tgi|769537622|gb|CP010873.1|\t9e-43\t182\t769537622\tCP010873\t1773\tMycobacterium tuberculosis\tMycobacterium tuberculosis\tMycobacterium tuberculosis strain Beijing-like, complete genome\n",
      "\n",
      "NODE_220_length_60_cov_112.599998\tgi|769537622|gb|CP010873.1|\t2e-38\t167\t769537622\tCP010873\t1773\tMycobacterium tuberculosis\tMycobacterium tuberculosis\tMycobacterium tuberculosis strain Beijing-like, complete genome\n",
      "\n",
      "NODE_225_length_61_cov_133.393448\tgi|769537622|gb|CP010873.1|\t7e-39\t169\t769537622\tCP010873\t1773\tMycobacterium tuberculosis\tMycobacterium tuberculosis\tMycobacterium tuberculosis strain Beijing-like, complete genome\n",
      "\n",
      "NODE_231_length_86_cov_118.686043\tgi|769537622|gb|CP010873.1|\t1e-52\t215\t769537622\tCP010873\t1773\tMycobacterium tuberculosis\tMycobacterium tuberculosis\tMycobacterium tuberculosis strain Beijing-like, complete genome\n",
      "\n",
      "NODE_250_length_71_cov_113.746475\tgi|769537622|gb|CP010873.1|\t2e-44\t187\t769537622\tCP010873\t1773\tMycobacterium tuberculosis\tMycobacterium tuberculosis\tMycobacterium tuberculosis strain Beijing-like, complete genome\n",
      "\n",
      "NODE_257_length_51_cov_135.274506\tgi|769537622|gb|CP010873.1|\t2e-33\t150\t769537622\tCP010873\t1773\tMycobacterium tuberculosis\tMycobacterium tuberculosis\tMycobacterium tuberculosis strain Beijing-like, complete genome\n",
      "\n",
      "NODE_258_length_72_cov_85.986115\tgi|769537622|gb|CP010873.1|\t6e-45\t189\t769537622\tCP010873\t1773\tMycobacterium tuberculosis\tMycobacterium tuberculosis\tMycobacterium tuberculosis strain Beijing-like, complete genome\n",
      "\n",
      "NODE_288_length_105_cov_122.238098\tgi|769537622|gb|CP010873.1|\t4e-63\t250\t769537622\tCP010873\t1773\tMycobacterium tuberculosis\tMycobacterium tuberculosis\tMycobacterium tuberculosis strain Beijing-like, complete genome\n",
      "\n",
      "NODE_289_length_98_cov_135.857147\tgi|769537622|gb|CP010873.1|\t3e-59\t237\t769537622\tCP010873\t1773\tMycobacterium tuberculosis\tMycobacterium tuberculosis\tMycobacterium tuberculosis strain Beijing-like, complete genome\n",
      "\n",
      "NODE_310_length_54_cov_166.259262\tgi|769537622|gb|CP010873.1|\t5e-35\t156\t769537622\tCP010873\t1773\tMycobacterium tuberculosis\tMycobacterium tuberculosis\tMycobacterium tuberculosis strain Beijing-like, complete genome\n",
      "\n"
     ]
    }
   ],
   "source": [
    "counter = 0\n",
    "for line in input:\n",
    "    print(line)    \n",
    "    counter = counter + 1\n",
    "    if counter > 10:\n",
    "        break"
   ]
  },
  {
   "cell_type": "code",
   "execution_count": 23,
   "metadata": {
    "collapsed": false
   },
   "outputs": [
    {
     "data": {
      "text/plain": [
       "'NODE_310_length_54_cov_166.259262\\tgi|769537622|gb|CP010873.1|\\t5e-35\\t156\\t769537622\\tCP010873\\t1773\\tMycobacterium tuberculosis\\tMycobacterium tuberculosis\\tMycobacterium tuberculosis strain Beijing-like, complete genome\\n'"
      ]
     },
     "execution_count": 23,
     "metadata": {},
     "output_type": "execute_result"
    }
   ],
   "source": [
    "line"
   ]
  },
  {
   "cell_type": "code",
   "execution_count": 25,
   "metadata": {
    "collapsed": false
   },
   "outputs": [
    {
     "name": "stdout",
     "output_type": "stream",
     "text": [
      "NODE_310_length_54_cov_166.259262\tgi|769537622|gb|CP010873.1|\t5e-35\t156\t769537622\tCP010873\t1773\tMycobacterium tuberculosis\tMycobacterium tuberculosis\tMycobacterium tuberculosis strain Beijing-like, complete genome\n",
      "\n",
      "hello\n"
     ]
    }
   ],
   "source": [
    "print(line)\n",
    "print('hello')"
   ]
  },
  {
   "cell_type": "code",
   "execution_count": 33,
   "metadata": {
    "collapsed": false
   },
   "outputs": [
    {
     "name": "stdout",
     "output_type": "stream",
     "text": [
      "Mycobacterium tuberculosis\n",
      "Mycobacterium tuberculosis\n",
      "Mycobacterium tuberculosis\n",
      "Mycobacterium tuberculosis\n",
      "Mycobacterium tuberculosis\n",
      "Mycobacterium tuberculosis\n",
      "Mycobacterium tuberculosis\n",
      "Mycobacterium tuberculosis\n",
      "Mycobacterium tuberculosis\n",
      "Mycobacterium tuberculosis\n",
      "Mycobacterium tuberculosis\n"
     ]
    }
   ],
   "source": [
    "# the basic read-a-file toolbox\n",
    "input = open('blast_results.txt')\n",
    "counter = 0\n",
    "for line in input:\n",
    "    line = line.rstrip()\n",
    "    fields = line.split('\\t')\n",
    "#     print(fields)\n",
    "    species = fields[7]\n",
    "    print(species)\n",
    "    counter = counter + 1\n",
    "    if counter > 10:\n",
    "        break"
   ]
  },
  {
   "cell_type": "code",
   "execution_count": 38,
   "metadata": {
    "collapsed": false
   },
   "outputs": [],
   "source": [
    "output = open('results.txt', 'w')\n",
    "# the basic read-a-file toolbox\n",
    "input = open('blast_results.txt')\n",
    "# counter = 0\n",
    "for line in input:\n",
    "    line = line.rstrip()\n",
    "    fields = line.split('\\t')\n",
    "#     print(fields)\n",
    "    species = fields[7]\n",
    "    print(species, file=output)\n",
    "#     counter = counter + 1\n",
    "#     if counter > 10:\n",
    "#         break\n",
    "output.close()"
   ]
  },
  {
   "cell_type": "code",
   "execution_count": 42,
   "metadata": {
    "collapsed": false
   },
   "outputs": [],
   "source": [
    "output = open('results.txt', 'a')\n",
    "# the basic read-a-file toolbox\n",
    "input = open('blast_results.txt')\n",
    "# counter = 0\n",
    "for line in input:\n",
    "    line = line.rstrip()\n",
    "    fields = line.split('\\t')\n",
    "#     print(fields)\n",
    "    species = fields[7]\n",
    "    print(species, file=output)\n",
    "#     counter = counter + 1\n",
    "#     if counter > 10:\n",
    "#         break\n",
    "output.close()"
   ]
  },
  {
   "cell_type": "code",
   "execution_count": 50,
   "metadata": {
    "collapsed": false
   },
   "outputs": [
    {
     "name": "stdout",
     "output_type": "stream",
     "text": [
      "{'Methylobacterium oryzae', 'Pseudomonas mendocina', 'Mycobacterium yongonense', 'Actinomyces vector', 'Pectobacterium carotovorum', 'Streptococcus parasanguinis', 'Pseudomonas knackmussii', 'Bordetella hinzii', 'Delftia sp.', 'Microbacterium testaceum', 'Acinetobacter guillouiae', 'Burkholderia lata', 'Fusobacterium nucleatum', 'Zea mays', 'Cronobacter sakazakii', 'Corynebacterium falsenii', 'Burkholderia pseudomallei', 'Micrococcus luteus', 'Corynebacterium variabile', 'Pseudomonas stutzeri', 'Triticum aestivum', 'Bordetella petrii', 'Macaca mulatta', 'Muntiacus muntjak', 'Shewanella oneidensis', 'Aspergillus niger', 'Corynebacterium urealyticum', 'Pseudomonas fluorescens', 'Variovorax paradoxus', 'Zunongwangia profunda', 'Citrus unshiu', 'Leptotrichia buccalis', 'Burkholderia cepacia', 'Burkholderia glumae', 'Pseudomonas plecoglossicida', 'Bordetella holmesii', 'Pan troglodytes', 'Elaeophora elaphi', 'Burkholderia cenocepacia', 'Malassezia globosa', 'Enterobius vermicularis', 'blood disease', 'Mycobacterium chelonae', 'Lactobacillus mucosae', 'Brucella suis', 'Enterobacter asburiae', 'Klebsiella michiganensis', 'Halomonas sp.', 'Nocardia cyriacigeorgica', 'Papio anubis', 'Pseudomonas pseudoalcaligenes', 'Exiguobacterium sp.', 'Mycobacterium canettii', 'Binary vector', 'Candidatus Kinetoplastibacterium', 'Burkholderia fungorum', 'Pseudomonas sp.', 'Cupriavidus basilensis', 'Bacillus bombysepticus', 'Callithrix jacchus', 'Corynebacterium ureicelerivorans', 'Thermus thermophilus', 'Prevotella intermedia', 'allotetraploid Carassius', 'Acidovorax sp.', 'Pongo abelii', 'Homo sapiens', 'Mycobacterium intracellulare', 'Corynebacterium efficiens', 'uncultured Thermomonospora', 'Bacillus anthracis', 'Castellaniella defragrans', 'Cloning vector', 'Sphingobium sp.', 'Pseudomonas aeruginosa', 'Staphylococcus epidermidis', 'Saccharomyces cerevisiae', 'Corynebacterium doosanense', 'Protopolystoma xenopodis', 'uncultured bacterium', 'Neisseria meningitidis', 'Stenotrophomonas maltophilia', 'Corynebacterium jeikeium', 'Pseudomonas alkylphenolia', 'Rhizobium tropici', 'Tistrella mobilis', 'Citrus sinensis', 'Staphylococcus sp.', 'Pantoea vagans', 'Pseudoalteromonas sp.', 'Haemonchus placei', 'Bison bison', 'Mycobacterium bovis', 'Streptococcus sp.', 'Propionibacterium acnes', 'Human adenovirus', 'uncultured Chlamydophila', 'Dechloromonas aromatica', 'Staphylococcus saprophyticus', 'Enterobacter cloacae', 'Novosphingobium pentaromativorans', 'Mycobacterium abscessus', 'Shewanella sp.', 'Veillonella parvula', 'Bison bonasus', 'Acinetobacter baumannii', 'Triticum monococcum', 'Acidovorax ebreus', 'Citrus aurantiifolia', 'Burkholderia dolosa', 'Sphingomonas sp.', 'Sphingomonas wittichii', 'Corynebacterium singulare', 'Camellia sinensis', 'Ralstonia mannitolilytica', 'Ralstonia syzygii', 'Mycobacterium tuberculosis', 'Oryza rufipogon', 'Delftia acidovorans', 'Burkholderia mallei', 'Cupriavidus metallidurans', 'Culex quinquefasciatus', 'Rubrobacter radiotolerans', 'Ralstonia pickettii', 'Bacillus cereus', 'Neisseria elongata', 'Burkholderia ubonensis', 'Corynebacterium glutamicum', 'Rubrivivax gelatinosus', 'Novosphingobium sp.', 'Corynebacterium casei', 'Mycobacterium indicus', 'Streptococcus oralis', 'Bordetella pertussis', 'Bacillus thuringiensis', 'Burkholderia oklahomensis', 'Sus scrofa', 'Dendroctonus ponderosae', 'uncultured Agrococcus', 'Caulobacter sp.', 'Flavobacterium johnsoniae', 'Pantholops hodgsonii', 'Ricinus communis', 'Bordetella bronchiseptica', 'Sinorhizobium fredii', 'Burkholderia ambifaria', 'Bos taurus', 'Escherichia coli', 'Staphylococcus warneri', 'Mycobacterium JC2972', 'Pandoraea pnomenusa', 'Sphingomonas taxi', 'Aeromonas hydrophila', 'Gallus gallus', 'Ralstonia sp.', 'Bacillus sp.', 'Elizabethkingia anophelis', 'Vibrio furnissii', 'Ovis aries', 'Cyprinus carpio', 'Ralstonia solanacearum', 'Achromobacter xylosoxidans', 'Spirometra erinaceieuropaei', 'Mycobacterium avium', 'Agrobacterium radiobacter', 'Macaca nemestrina', 'Oryza sativa', 'Alicycliphilus denitrificans', 'Mycobacterium sp.', 'Burkholderia sp.', 'Thermus scotoductus', 'Bordetella avium', 'Xanthobacter autotrophicus', 'Canis lupus', 'Babesia bigemina'}\n"
     ]
    }
   ],
   "source": [
    "# the basic read-a-file toolbox\n",
    "input = open('blast_results.txt')\n",
    "# use a set to make sure we have 1 of each thing\n",
    "species_set = set()\n",
    "# counter = 0\n",
    "for line in input:\n",
    "    line = line.rstrip()\n",
    "    fields = line.split('\\t')\n",
    "    species = fields[7]\n",
    "    species_parts = species.split()\n",
    "    # join together first 2 words in species_parts\n",
    "    species = ' '.join(species_parts[0:2])\n",
    "    species_set.add(species)\n",
    "print(species_set)"
   ]
  },
  {
   "cell_type": "code",
   "execution_count": 55,
   "metadata": {
    "collapsed": false
   },
   "outputs": [],
   "source": [
    "output = open('species_list.txt', 'w')\n",
    "for species in sorted(species_set):\n",
    "    print(species, file=output)\n",
    "output.close()"
   ]
  },
  {
   "cell_type": "code",
   "execution_count": 54,
   "metadata": {
    "collapsed": false,
    "scrolled": false
   },
   "outputs": [
    {
     "data": {
      "text/plain": [
       "['Achromobacter xylosoxidans',\n",
       " 'Acidovorax ebreus',\n",
       " 'Acidovorax sp.',\n",
       " 'Acinetobacter baumannii',\n",
       " 'Acinetobacter guillouiae',\n",
       " 'Actinomyces vector',\n",
       " 'Aeromonas hydrophila',\n",
       " 'Agrobacterium radiobacter',\n",
       " 'Alicycliphilus denitrificans',\n",
       " 'Aspergillus niger',\n",
       " 'Babesia bigemina',\n",
       " 'Bacillus anthracis',\n",
       " 'Bacillus bombysepticus',\n",
       " 'Bacillus cereus',\n",
       " 'Bacillus sp.',\n",
       " 'Bacillus thuringiensis',\n",
       " 'Binary vector',\n",
       " 'Bison bison',\n",
       " 'Bison bonasus',\n",
       " 'Bordetella avium',\n",
       " 'Bordetella bronchiseptica',\n",
       " 'Bordetella hinzii',\n",
       " 'Bordetella holmesii',\n",
       " 'Bordetella pertussis',\n",
       " 'Bordetella petrii',\n",
       " 'Bos taurus',\n",
       " 'Brucella suis',\n",
       " 'Burkholderia ambifaria',\n",
       " 'Burkholderia cenocepacia',\n",
       " 'Burkholderia cepacia',\n",
       " 'Burkholderia dolosa',\n",
       " 'Burkholderia fungorum',\n",
       " 'Burkholderia glumae',\n",
       " 'Burkholderia lata',\n",
       " 'Burkholderia mallei',\n",
       " 'Burkholderia oklahomensis',\n",
       " 'Burkholderia pseudomallei',\n",
       " 'Burkholderia sp.',\n",
       " 'Burkholderia ubonensis',\n",
       " 'Callithrix jacchus',\n",
       " 'Camellia sinensis',\n",
       " 'Candidatus Kinetoplastibacterium',\n",
       " 'Canis lupus',\n",
       " 'Castellaniella defragrans',\n",
       " 'Caulobacter sp.',\n",
       " 'Citrus aurantiifolia',\n",
       " 'Citrus sinensis',\n",
       " 'Citrus unshiu',\n",
       " 'Cloning vector',\n",
       " 'Corynebacterium casei',\n",
       " 'Corynebacterium doosanense',\n",
       " 'Corynebacterium efficiens',\n",
       " 'Corynebacterium falsenii',\n",
       " 'Corynebacterium glutamicum',\n",
       " 'Corynebacterium jeikeium',\n",
       " 'Corynebacterium singulare',\n",
       " 'Corynebacterium urealyticum',\n",
       " 'Corynebacterium ureicelerivorans',\n",
       " 'Corynebacterium variabile',\n",
       " 'Cronobacter sakazakii',\n",
       " 'Culex quinquefasciatus',\n",
       " 'Cupriavidus basilensis',\n",
       " 'Cupriavidus metallidurans',\n",
       " 'Cyprinus carpio',\n",
       " 'Dechloromonas aromatica',\n",
       " 'Delftia acidovorans',\n",
       " 'Delftia sp.',\n",
       " 'Dendroctonus ponderosae',\n",
       " 'Elaeophora elaphi',\n",
       " 'Elizabethkingia anophelis',\n",
       " 'Enterobacter asburiae',\n",
       " 'Enterobacter cloacae',\n",
       " 'Enterobius vermicularis',\n",
       " 'Escherichia coli',\n",
       " 'Exiguobacterium sp.',\n",
       " 'Flavobacterium johnsoniae',\n",
       " 'Fusobacterium nucleatum',\n",
       " 'Gallus gallus',\n",
       " 'Haemonchus placei',\n",
       " 'Halomonas sp.',\n",
       " 'Homo sapiens',\n",
       " 'Human adenovirus',\n",
       " 'Klebsiella michiganensis',\n",
       " 'Lactobacillus mucosae',\n",
       " 'Leptotrichia buccalis',\n",
       " 'Macaca mulatta',\n",
       " 'Macaca nemestrina',\n",
       " 'Malassezia globosa',\n",
       " 'Methylobacterium oryzae',\n",
       " 'Microbacterium testaceum',\n",
       " 'Micrococcus luteus',\n",
       " 'Muntiacus muntjak',\n",
       " 'Mycobacterium JC2972',\n",
       " 'Mycobacterium abscessus',\n",
       " 'Mycobacterium avium',\n",
       " 'Mycobacterium bovis',\n",
       " 'Mycobacterium canettii',\n",
       " 'Mycobacterium chelonae',\n",
       " 'Mycobacterium indicus',\n",
       " 'Mycobacterium intracellulare',\n",
       " 'Mycobacterium sp.',\n",
       " 'Mycobacterium tuberculosis',\n",
       " 'Mycobacterium yongonense',\n",
       " 'Neisseria elongata',\n",
       " 'Neisseria meningitidis',\n",
       " 'Nocardia cyriacigeorgica',\n",
       " 'Novosphingobium pentaromativorans',\n",
       " 'Novosphingobium sp.',\n",
       " 'Oryza rufipogon',\n",
       " 'Oryza sativa',\n",
       " 'Ovis aries',\n",
       " 'Pan troglodytes',\n",
       " 'Pandoraea pnomenusa',\n",
       " 'Pantholops hodgsonii',\n",
       " 'Pantoea vagans',\n",
       " 'Papio anubis',\n",
       " 'Pectobacterium carotovorum',\n",
       " 'Pongo abelii',\n",
       " 'Prevotella intermedia',\n",
       " 'Propionibacterium acnes',\n",
       " 'Protopolystoma xenopodis',\n",
       " 'Pseudoalteromonas sp.',\n",
       " 'Pseudomonas aeruginosa',\n",
       " 'Pseudomonas alkylphenolia',\n",
       " 'Pseudomonas fluorescens',\n",
       " 'Pseudomonas knackmussii',\n",
       " 'Pseudomonas mendocina',\n",
       " 'Pseudomonas plecoglossicida',\n",
       " 'Pseudomonas pseudoalcaligenes',\n",
       " 'Pseudomonas sp.',\n",
       " 'Pseudomonas stutzeri',\n",
       " 'Ralstonia mannitolilytica',\n",
       " 'Ralstonia pickettii',\n",
       " 'Ralstonia solanacearum',\n",
       " 'Ralstonia sp.',\n",
       " 'Ralstonia syzygii',\n",
       " 'Rhizobium tropici',\n",
       " 'Ricinus communis',\n",
       " 'Rubrivivax gelatinosus',\n",
       " 'Rubrobacter radiotolerans',\n",
       " 'Saccharomyces cerevisiae',\n",
       " 'Shewanella oneidensis',\n",
       " 'Shewanella sp.',\n",
       " 'Sinorhizobium fredii',\n",
       " 'Sphingobium sp.',\n",
       " 'Sphingomonas sp.',\n",
       " 'Sphingomonas taxi',\n",
       " 'Sphingomonas wittichii',\n",
       " 'Spirometra erinaceieuropaei',\n",
       " 'Staphylococcus epidermidis',\n",
       " 'Staphylococcus saprophyticus',\n",
       " 'Staphylococcus sp.',\n",
       " 'Staphylococcus warneri',\n",
       " 'Stenotrophomonas maltophilia',\n",
       " 'Streptococcus oralis',\n",
       " 'Streptococcus parasanguinis',\n",
       " 'Streptococcus sp.',\n",
       " 'Sus scrofa',\n",
       " 'Thermus scotoductus',\n",
       " 'Thermus thermophilus',\n",
       " 'Tistrella mobilis',\n",
       " 'Triticum aestivum',\n",
       " 'Triticum monococcum',\n",
       " 'Variovorax paradoxus',\n",
       " 'Veillonella parvula',\n",
       " 'Vibrio furnissii',\n",
       " 'Xanthobacter autotrophicus',\n",
       " 'Zea mays',\n",
       " 'Zunongwangia profunda',\n",
       " 'allotetraploid Carassius',\n",
       " 'blood disease',\n",
       " 'uncultured Agrococcus',\n",
       " 'uncultured Chlamydophila',\n",
       " 'uncultured Thermomonospora',\n",
       " 'uncultured bacterium']"
      ]
     },
     "execution_count": 54,
     "metadata": {},
     "output_type": "execute_result"
    }
   ],
   "source": [
    "sorted(species_set)"
   ]
  },
  {
   "cell_type": "code",
   "execution_count": 43,
   "metadata": {
    "collapsed": true
   },
   "outputs": [],
   "source": [
    "newlist = list()"
   ]
  },
  {
   "cell_type": "code",
   "execution_count": 44,
   "metadata": {
    "collapsed": false
   },
   "outputs": [
    {
     "data": {
      "text/plain": [
       "[]"
      ]
     },
     "execution_count": 44,
     "metadata": {},
     "output_type": "execute_result"
    }
   ],
   "source": [
    "newlist"
   ]
  },
  {
   "cell_type": "code",
   "execution_count": 45,
   "metadata": {
    "collapsed": true
   },
   "outputs": [],
   "source": [
    "newstring = str()"
   ]
  },
  {
   "cell_type": "code",
   "execution_count": 46,
   "metadata": {
    "collapsed": false
   },
   "outputs": [
    {
     "data": {
      "text/plain": [
       "''"
      ]
     },
     "execution_count": 46,
     "metadata": {},
     "output_type": "execute_result"
    }
   ],
   "source": [
    "newstring"
   ]
  },
  {
   "cell_type": "code",
   "execution_count": 47,
   "metadata": {
    "collapsed": true
   },
   "outputs": [],
   "source": [
    "newint = int()"
   ]
  },
  {
   "cell_type": "code",
   "execution_count": 48,
   "metadata": {
    "collapsed": false
   },
   "outputs": [
    {
     "data": {
      "text/plain": [
       "0"
      ]
     },
     "execution_count": 48,
     "metadata": {},
     "output_type": "execute_result"
    }
   ],
   "source": [
    "newint"
   ]
  },
  {
   "cell_type": "code",
   "execution_count": 56,
   "metadata": {
    "collapsed": true
   },
   "outputs": [],
   "source": [
    "newdict = dict()"
   ]
  },
  {
   "cell_type": "code",
   "execution_count": 59,
   "metadata": {
    "collapsed": false
   },
   "outputs": [
    {
     "data": {
      "text/plain": [
       "{'broccoli': 'vegetarian', 'meat': 'non-vegetarian'}"
      ]
     },
     "execution_count": 59,
     "metadata": {},
     "output_type": "execute_result"
    }
   ],
   "source": [
    "newdict['meat'] = 'non-vegetarian'\n",
    "newdict['broccoli'] = 'vegetarian'\n",
    "newdict"
   ]
  },
  {
   "cell_type": "code",
   "execution_count": 61,
   "metadata": {
    "collapsed": false
   },
   "outputs": [
    {
     "data": {
      "text/plain": [
       "{'creme_brule': True, 'steak': False}"
      ]
     },
     "execution_count": 61,
     "metadata": {},
     "output_type": "execute_result"
    }
   ],
   "source": [
    "things_i_like = dict()\n",
    "things_i_like['creme_brule'] = True\n",
    "things_i_like['steak'] = False\n",
    "things_i_like"
   ]
  },
  {
   "cell_type": "code",
   "execution_count": 66,
   "metadata": {
    "collapsed": true
   },
   "outputs": [],
   "source": [
    "things_i_like['coffee'] = True"
   ]
  },
  {
   "cell_type": "code",
   "execution_count": 67,
   "metadata": {
    "collapsed": false
   },
   "outputs": [
    {
     "data": {
      "text/plain": [
       "{'coffee': True, 'creme_brule': True, 'steak': True}"
      ]
     },
     "execution_count": 67,
     "metadata": {},
     "output_type": "execute_result"
    }
   ],
   "source": [
    "things_i_like"
   ]
  },
  {
   "cell_type": "code",
   "execution_count": 68,
   "metadata": {
    "collapsed": false
   },
   "outputs": [
    {
     "data": {
      "text/plain": [
       "dict_keys(['coffee', 'creme_brule', 'steak'])"
      ]
     },
     "execution_count": 68,
     "metadata": {},
     "output_type": "execute_result"
    }
   ],
   "source": [
    "things_i_like.keys()"
   ]
  },
  {
   "cell_type": "code",
   "execution_count": 69,
   "metadata": {
    "collapsed": false
   },
   "outputs": [
    {
     "data": {
      "text/plain": [
       "dict_values([True, True, True])"
      ]
     },
     "execution_count": 69,
     "metadata": {},
     "output_type": "execute_result"
    }
   ],
   "source": [
    "things_i_like.values()"
   ]
  },
  {
   "cell_type": "code",
   "execution_count": 70,
   "metadata": {
    "collapsed": false
   },
   "outputs": [
    {
     "name": "stdout",
     "output_type": "stream",
     "text": [
      "{'Methylobacterium oryzae': 1, 'Pseudomonas mendocina': 1, 'Mycobacterium yongonense': 185, 'Burkholderia dolosa': 1, 'Actinomyces vector': 1, 'Streptococcus parasanguinis': 1, 'Bacillus cereus': 24, 'Haemonchus placei': 1, 'Pseudomonas knackmussii': 2, 'Bordetella hinzii': 1, 'Delftia sp.': 1, 'Microbacterium testaceum': 5, 'Acinetobacter guillouiae': 10, 'Burkholderia lata': 47, 'Fusobacterium nucleatum': 4, 'Corynebacterium falsenii': 1, 'Burkholderia pseudomallei': 1, 'Micrococcus luteus': 1, 'Pectobacterium carotovorum': 2, 'Corynebacterium variabile': 3, 'Pseudomonas stutzeri': 3, 'Shewanella oneidensis': 2, 'Macaca mulatta': 1, 'Corynebacterium urealyticum': 1, 'Aspergillus niger': 1, 'Pseudomonas fluorescens': 1, 'Novosphingobium sp.': 1, 'Variovorax paradoxus': 1, 'Corynebacterium efficiens': 1, 'Zunongwangia profunda': 1, 'Citrus unshiu': 1, 'Leptotrichia buccalis': 1, 'Burkholderia cepacia': 36, 'Burkholderia glumae': 3, 'Pseudomonas plecoglossicida': 1, 'Bordetella holmesii': 1, 'Pan troglodytes': 27, 'Elaeophora elaphi': 4, 'Burkholderia cenocepacia': 16, 'Lactobacillus mucosae': 2, 'blood disease': 12, 'Brucella suis': 1, 'Enterobacter asburiae': 1, 'Streptococcus oralis': 1, 'Nocardia cyriacigeorgica': 1, 'Papio anubis': 1, 'Pseudomonas pseudoalcaligenes': 3, 'Exiguobacterium sp.': 2, 'Malassezia globosa': 1, 'Mycobacterium canettii': 35, 'Binary vector': 1, 'Candidatus Kinetoplastibacterium': 3, 'Pseudomonas sp.': 4, 'Cupriavidus basilensis': 3, 'Bacillus bombysepticus': 4, 'Callithrix jacchus': 1, 'Corynebacterium ureicelerivorans': 1, 'Thermus thermophilus': 1, 'Prevotella intermedia': 1, 'Triticum aestivum': 618, 'Enterobius vermicularis': 1, 'Acidovorax sp.': 3, 'Pongo abelii': 3, 'Homo sapiens': 1453, 'Mycobacterium intracellulare': 99, 'uncultured Thermomonospora': 1, 'Bacillus anthracis': 9, 'Cloning vector': 1, 'Klebsiella michiganensis': 2, 'Sphingobium sp.': 8, 'Pseudomonas aeruginosa': 20, 'Halomonas sp.': 6, 'Staphylococcus epidermidis': 1, 'Saccharomyces cerevisiae': 4, 'Cronobacter sakazakii': 1, 'Corynebacterium doosanense': 1, 'Protopolystoma xenopodis': 2, 'Ralstonia sp.': 1, 'Veillonella parvula': 1, 'Streptococcus sp.': 1, 'Neisseria meningitidis': 2, 'Stenotrophomonas maltophilia': 2, 'Corynebacterium jeikeium': 1, 'Pseudomonas alkylphenolia': 1, 'Rhizobium tropici': 7, 'Tistrella mobilis': 1, 'Acinetobacter baumannii': 1, 'Citrus sinensis': 1, 'Staphylococcus sp.': 1, 'Pantoea vagans': 1, 'Pseudoalteromonas sp.': 1, 'Bison bison': 1, 'Mycobacterium bovis': 655, 'Propionibacterium acnes': 19, 'Human adenovirus': 3, 'uncultured Chlamydophila': 1, 'Dechloromonas aromatica': 1, 'Staphylococcus saprophyticus': 1, 'Enterobacter cloacae': 1, 'Zea mays': 1, 'Novosphingobium pentaromativorans': 5, 'Mycobacterium abscessus': 90, 'Shewanella sp.': 3, 'Bison bonasus': 1, 'Achromobacter xylosoxidans': 45, 'Triticum monococcum': 2, 'Acidovorax ebreus': 5, 'Citrus aurantiifolia': 1, 'Sphingomonas sp.': 10, 'Sphingomonas wittichii': 1, 'Corynebacterium singulare': 2, 'Camellia sinensis': 1, 'Ralstonia mannitolilytica': 114, 'Ralstonia syzygii': 15, 'Mycobacterium tuberculosis': 23445, 'Castellaniella defragrans': 4, 'Burkholderia mallei': 1, 'uncultured bacterium': 10, 'Cupriavidus metallidurans': 3, 'Culex quinquefasciatus': 1, 'Rubrobacter radiotolerans': 1, 'Burkholderia fungorum': 5, 'Ralstonia pickettii': 196, 'Neisseria elongata': 1, 'Burkholderia ubonensis': 1, 'Corynebacterium glutamicum': 2, 'Rubrivivax gelatinosus': 1, 'Corynebacterium casei': 1, 'Mycobacterium indicus': 14, 'Oryza sativa': 1, 'Bordetella pertussis': 20, 'Bacillus thuringiensis': 97, 'Burkholderia oklahomensis': 2, 'Sus scrofa': 3, 'Dendroctonus ponderosae': 3, 'uncultured Agrococcus': 1, 'Oryza rufipogon': 1, 'Caulobacter sp.': 1, 'Flavobacterium johnsoniae': 1, 'Pantholops hodgsonii': 1, 'Ricinus communis': 1, 'Delftia acidovorans': 3, 'Bordetella bronchiseptica': 11, 'Muntiacus muntjak': 1, 'Burkholderia ambifaria': 6, 'Bos taurus': 1, 'Escherichia coli': 57, 'Mycobacterium chelonae': 2, 'Staphylococcus warneri': 2, 'Sinorhizobium fredii': 1, 'Mycobacterium JC2972': 1, 'Pandoraea pnomenusa': 1, 'Sphingomonas taxi': 4, 'Aeromonas hydrophila': 3, 'Gallus gallus': 13, 'Bacillus sp.': 1, 'Elizabethkingia anophelis': 1, 'Vibrio furnissii': 2, 'Ovis aries': 1, 'Cyprinus carpio': 16, 'Ralstonia solanacearum': 80, 'Spirometra erinaceieuropaei': 1, 'Mycobacterium avium': 4, 'Bordetella petrii': 19, 'Agrobacterium radiobacter': 1, 'allotetraploid Carassius': 1, 'Macaca nemestrina': 1, 'Alicycliphilus denitrificans': 1, 'Mycobacterium sp.': 30, 'Burkholderia sp.': 3, 'Thermus scotoductus': 1, 'Bordetella avium': 2, 'Xanthobacter autotrophicus': 1, 'Canis lupus': 5, 'Babesia bigemina': 2}\n"
     ]
    }
   ],
   "source": [
    "# the basic read-a-file toolbox\n",
    "input = open('blast_results.txt')\n",
    "# use a set to make sure we have 1 of each thing\n",
    "species_count = dict()\n",
    "# counter = 0\n",
    "for line in input:\n",
    "    line = line.rstrip()\n",
    "    fields = line.split('\\t')\n",
    "    species = fields[7]\n",
    "    species_parts = species.split()\n",
    "    # join together first 2 words in species_parts\n",
    "    species = ' '.join(species_parts[0:2])\n",
    "    if species in species_count:\n",
    "        species_count[species] = species_count[species] + 1\n",
    "    else:\n",
    "        species_count[species] = 1\n",
    "print(species_count)"
   ]
  },
  {
   "cell_type": "code",
   "execution_count": 75,
   "metadata": {
    "collapsed": false,
    "scrolled": false
   },
   "outputs": [
    {
     "name": "stdout",
     "output_type": "stream",
     "text": [
      "[['Methylobacterium oryzae', 1], ['Pseudomonas mendocina', 1], ['Mycobacterium yongonense', 185], ['Burkholderia dolosa', 1], ['Actinomyces vector', 1], ['Streptococcus parasanguinis', 1], ['Bacillus cereus', 24], ['Haemonchus placei', 1], ['Pseudomonas knackmussii', 2], ['Bordetella hinzii', 1], ['Delftia sp.', 1], ['Microbacterium testaceum', 5], ['Acinetobacter guillouiae', 10], ['Burkholderia lata', 47], ['Fusobacterium nucleatum', 4], ['Corynebacterium falsenii', 1], ['Burkholderia pseudomallei', 1], ['Micrococcus luteus', 1], ['Pectobacterium carotovorum', 2], ['Corynebacterium variabile', 3], ['Pseudomonas stutzeri', 3], ['Shewanella oneidensis', 2], ['Macaca mulatta', 1], ['Corynebacterium urealyticum', 1], ['Aspergillus niger', 1], ['Pseudomonas fluorescens', 1], ['Novosphingobium sp.', 1], ['Variovorax paradoxus', 1], ['Corynebacterium efficiens', 1], ['Zunongwangia profunda', 1], ['Citrus unshiu', 1], ['Leptotrichia buccalis', 1], ['Burkholderia cepacia', 36], ['Burkholderia glumae', 3], ['Pseudomonas plecoglossicida', 1], ['Bordetella holmesii', 1], ['Pan troglodytes', 27], ['Elaeophora elaphi', 4], ['Burkholderia cenocepacia', 16], ['Lactobacillus mucosae', 2], ['blood disease', 12], ['Brucella suis', 1], ['Enterobacter asburiae', 1], ['Streptococcus oralis', 1], ['Nocardia cyriacigeorgica', 1], ['Papio anubis', 1], ['Pseudomonas pseudoalcaligenes', 3], ['Exiguobacterium sp.', 2], ['Malassezia globosa', 1], ['Mycobacterium canettii', 35], ['Binary vector', 1], ['Candidatus Kinetoplastibacterium', 3], ['Pseudomonas sp.', 4], ['Cupriavidus basilensis', 3], ['Bacillus bombysepticus', 4], ['Callithrix jacchus', 1], ['Corynebacterium ureicelerivorans', 1], ['Thermus thermophilus', 1], ['Prevotella intermedia', 1], ['Triticum aestivum', 618], ['Enterobius vermicularis', 1], ['Acidovorax sp.', 3], ['Pongo abelii', 3], ['Homo sapiens', 1453], ['Mycobacterium intracellulare', 99], ['uncultured Thermomonospora', 1], ['Bacillus anthracis', 9], ['Cloning vector', 1], ['Klebsiella michiganensis', 2], ['Sphingobium sp.', 8], ['Pseudomonas aeruginosa', 20], ['Halomonas sp.', 6], ['Staphylococcus epidermidis', 1], ['Saccharomyces cerevisiae', 4], ['Cronobacter sakazakii', 1], ['Corynebacterium doosanense', 1], ['Protopolystoma xenopodis', 2], ['Ralstonia sp.', 1], ['Veillonella parvula', 1], ['Streptococcus sp.', 1], ['Neisseria meningitidis', 2], ['Stenotrophomonas maltophilia', 2], ['Corynebacterium jeikeium', 1], ['Pseudomonas alkylphenolia', 1], ['Rhizobium tropici', 7], ['Tistrella mobilis', 1], ['Acinetobacter baumannii', 1], ['Citrus sinensis', 1], ['Staphylococcus sp.', 1], ['Pantoea vagans', 1], ['Pseudoalteromonas sp.', 1], ['Bison bison', 1], ['Mycobacterium bovis', 655], ['Propionibacterium acnes', 19], ['Human adenovirus', 3], ['uncultured Chlamydophila', 1], ['Dechloromonas aromatica', 1], ['Staphylococcus saprophyticus', 1], ['Enterobacter cloacae', 1], ['Zea mays', 1], ['Novosphingobium pentaromativorans', 5], ['Mycobacterium abscessus', 90], ['Shewanella sp.', 3], ['Bison bonasus', 1], ['Achromobacter xylosoxidans', 45], ['Triticum monococcum', 2], ['Acidovorax ebreus', 5], ['Citrus aurantiifolia', 1], ['Sphingomonas sp.', 10], ['Sphingomonas wittichii', 1], ['Corynebacterium singulare', 2], ['Camellia sinensis', 1], ['Ralstonia mannitolilytica', 114], ['Ralstonia syzygii', 15], ['Mycobacterium tuberculosis', 23445], ['Castellaniella defragrans', 4], ['Burkholderia mallei', 1], ['uncultured bacterium', 10], ['Cupriavidus metallidurans', 3], ['Culex quinquefasciatus', 1], ['Rubrobacter radiotolerans', 1], ['Burkholderia fungorum', 5], ['Ralstonia pickettii', 196], ['Neisseria elongata', 1], ['Burkholderia ubonensis', 1], ['Corynebacterium glutamicum', 2], ['Rubrivivax gelatinosus', 1], ['Corynebacterium casei', 1], ['Mycobacterium indicus', 14], ['Oryza sativa', 1], ['Bordetella pertussis', 20], ['Bacillus thuringiensis', 97], ['Burkholderia oklahomensis', 2], ['Sus scrofa', 3], ['Dendroctonus ponderosae', 3], ['uncultured Agrococcus', 1], ['Oryza rufipogon', 1], ['Caulobacter sp.', 1], ['Flavobacterium johnsoniae', 1], ['Pantholops hodgsonii', 1], ['Ricinus communis', 1], ['Delftia acidovorans', 3], ['Bordetella bronchiseptica', 11], ['Muntiacus muntjak', 1], ['Burkholderia ambifaria', 6], ['Bos taurus', 1], ['Escherichia coli', 57], ['Mycobacterium chelonae', 2], ['Staphylococcus warneri', 2], ['Sinorhizobium fredii', 1], ['Mycobacterium JC2972', 1], ['Pandoraea pnomenusa', 1], ['Sphingomonas taxi', 4], ['Aeromonas hydrophila', 3], ['Gallus gallus', 13], ['Bacillus sp.', 1], ['Elizabethkingia anophelis', 1], ['Vibrio furnissii', 2], ['Ovis aries', 1], ['Cyprinus carpio', 16], ['Ralstonia solanacearum', 80], ['Spirometra erinaceieuropaei', 1], ['Mycobacterium avium', 4], ['Bordetella petrii', 19], ['Agrobacterium radiobacter', 1], ['allotetraploid Carassius', 1], ['Macaca nemestrina', 1], ['Alicycliphilus denitrificans', 1], ['Mycobacterium sp.', 30], ['Burkholderia sp.', 3], ['Thermus scotoductus', 1], ['Bordetella avium', 2], ['Xanthobacter autotrophicus', 1], ['Canis lupus', 5], ['Babesia bigemina', 2]]\n"
     ]
    }
   ],
   "source": [
    "species_count_list = []\n",
    "for (species, count) in species_count.items():\n",
    "    species_count_list.append([species, count])\n",
    "print(species_count_list)"
   ]
  },
  {
   "cell_type": "code",
   "execution_count": 82,
   "metadata": {
    "collapsed": false
   },
   "outputs": [],
   "source": [
    "import operator\n",
    "sorted_counts = sorted(species_count_list, key=operator.itemgetter(1), reverse=True)"
   ]
  },
  {
   "cell_type": "code",
   "execution_count": 84,
   "metadata": {
    "collapsed": false
   },
   "outputs": [],
   "source": [
    "output = open('species_counts.txt', 'w')\n",
    "for (species, count) in sorted_counts:\n",
    "    print('\\t'.join([species, str(count)]), file=output)\n",
    "output.close()"
   ]
  },
  {
   "cell_type": "code",
   "execution_count": null,
   "metadata": {
    "collapsed": true
   },
   "outputs": [],
   "source": []
  }
 ],
 "metadata": {
  "kernelspec": {
   "display_name": "Python 3",
   "language": "python",
   "name": "python3"
  },
  "language_info": {
   "codemirror_mode": {
    "name": "ipython",
    "version": 3
   },
   "file_extension": ".py",
   "mimetype": "text/x-python",
   "name": "python",
   "nbconvert_exporter": "python",
   "pygments_lexer": "ipython3",
   "version": "3.5.1"
  }
 },
 "nbformat": 4,
 "nbformat_minor": 0
}
